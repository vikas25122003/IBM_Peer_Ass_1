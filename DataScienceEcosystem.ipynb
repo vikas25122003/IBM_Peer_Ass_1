{
 "cells": [
  {
   "cell_type": "markdown",
   "id": "431758b7",
   "metadata": {},
   "source": [
    "#Data Science tools and ecosystem\n"
   ]
  },
  {
   "cell_type": "markdown",
   "id": "dd2847c9",
   "metadata": {},
   "source": [
    "In this notebook, Data Science Tools and Ecosystem are summarized."
   ]
  },
  {
   "cell_type": "markdown",
   "id": "a7043b73",
   "metadata": {},
   "source": [
    "Some of the popular languages that Data Scientists use are:\n",
    "1. Python  \n",
    "2. Scala  \n",
    "3. R Language\n"
   ]
  },
  {
   "cell_type": "markdown",
   "id": "a46e1356",
   "metadata": {},
   "source": [
    "Some of the commonly used libraries used by Data Scientists include:\n",
    "1. Numpy\n",
    "2. Pandas\n",
    "3. ggplot"
   ]
  },
  {
   "cell_type": "code",
   "execution_count": 1,
   "id": "d7ad7db3",
   "metadata": {},
   "outputs": [
    {
     "data": {
      "text/markdown": [
       "\n",
       "| Data Science Tools |\n",
       "|-------------------|\n",
       "| Jupyter Notebook  |\n",
       "| RStudio           |\n",
       "| Apache Zeppelin   |\n"
      ],
      "text/plain": [
       "<IPython.core.display.Markdown object>"
      ]
     },
     "metadata": {},
     "output_type": "display_data"
    }
   ],
   "source": [
    "from IPython.display import display, Markdown\n",
    "\n",
    "table = \"\"\"\n",
    "| Data Science Tools |\n",
    "|-------------------|\n",
    "| Jupyter Notebook  |\n",
    "| RStudio           |\n",
    "| Apache Zeppelin   |\n",
    "\"\"\"\n",
    "\n",
    "display(Markdown(table))"
   ]
  },
  {
   "cell_type": "code",
   "execution_count": 3,
   "id": "88d61081",
   "metadata": {
    "vscode": {
     "languageId": "markdown"
    }
   },
   "outputs": [
    {
     "name": "stdout",
     "output_type": "stream",
     "text": [
      "15\n",
      "69\n"
     ]
    }
   ],
   "source": [
    "### Below are a few examples of evaluating arithmetic expressions in Python\n",
    "print(6+9)\n",
    "print(34+35)"
   ]
  },
  {
   "cell_type": "code",
   "execution_count": 6,
   "id": "a75e2ab3",
   "metadata": {
    "vscode": {
     "languageId": "markdown"
    }
   },
   "outputs": [
    {
     "data": {
      "text/plain": [
       "17"
      ]
     },
     "execution_count": 6,
     "metadata": {},
     "output_type": "execute_result"
    }
   ],
   "source": [
    "# This is a simple arithmetic expression to multiply then add integers\n",
    "(3 * 4) + 5\n"
   ]
  },
  {
   "cell_type": "code",
   "execution_count": 8,
   "id": "d4f903c6",
   "metadata": {
    "vscode": {
     "languageId": "markdown"
    }
   },
   "outputs": [
    {
     "name": "stdout",
     "output_type": "stream",
     "text": [
      "3.3333333333333335\n"
     ]
    }
   ],
   "source": [
    "# This will convert 200 minutes to hours by dividing by 60\n",
    "hours = 200 / 60\n",
    "print(hours)\n"
   ]
  },
  {
   "cell_type": "markdown",
   "id": "2abc3a3c",
   "metadata": {
    "vscode": {
     "languageId": "markdown"
    }
   },
   "source": [
    "##Objectives:\n",
    "\n",
    "- List popular languages for Data Science\n",
    "- Identify commonly used libraries by Data Scientists\n",
    "- Introduce Data Science tools\n",
    "- Demonstrate basic arithmetic operations in Python\n",
    "- Convert minutes to hours using Python\n"
   ]
  },
  {
   "cell_type": "markdown",
   "id": "1add9def",
   "metadata": {
    "vscode": {
     "languageId": "markdown"
    }
   },
   "source": [
    "```markdown\n",
    "## Author\n",
    "\n",
    "R M JAI VIGNESHA VIKAS\n",
    "```"
   ]
  },
  {
   "cell_type": "markdown",
   "id": "94ed7f0a",
   "metadata": {},
   "source": []
  },
  {
   "cell_type": "code",
   "execution_count": null,
   "id": "bf0e5f1e",
   "metadata": {},
   "outputs": [],
   "source": []
  }
 ],
 "metadata": {
  "kernelspec": {
   "display_name": "Python 3",
   "language": "python",
   "name": "python3"
  },
  "language_info": {
   "codemirror_mode": {
    "name": "ipython",
    "version": 3
   },
   "file_extension": ".py",
   "mimetype": "text/x-python",
   "name": "python",
   "nbconvert_exporter": "python",
   "pygments_lexer": "ipython3",
   "version": "3.12.5"
  }
 },
 "nbformat": 4,
 "nbformat_minor": 5
}
